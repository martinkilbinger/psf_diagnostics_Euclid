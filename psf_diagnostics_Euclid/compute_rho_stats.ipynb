{
 "cells": [
  {
   "cell_type": "code",
   "execution_count": 26,
   "metadata": {},
   "outputs": [],
   "source": [
    "import numpy as np\n",
    "\n",
    "import matplotlib.pyplot as plt\n",
    "\n",
    "from shear_psf_leakage.rho_tau_stat import RhoStat\n",
    "from astropy.io import fits\n",
    "import treecorr"
   ]
  },
  {
   "cell_type": "code",
   "execution_count": 7,
   "metadata": {},
   "outputs": [
    {
     "name": "stdout",
     "output_type": "stream",
     "text": [
      "Number of objects:  7429\n"
     ]
    }
   ],
   "source": [
    "path = '../data/test/Euclid_rho_input.fits'\n",
    "\n",
    "data = fits.getdata(path)\n",
    "print(\"Number of objects: \", len(data))"
   ]
  },
  {
   "cell_type": "code",
   "execution_count": 9,
   "metadata": {},
   "outputs": [],
   "source": [
    "coord_units = \"deg\"\n",
    "theta_min = 0.1\n",
    "theta_max = 100\n",
    "sep_units = \"arcmin\"\n",
    "nbins = 20\n",
    "\n",
    "TreeCorrConfig = {\n",
    "    'nbins': nbins,\n",
    "    'min_sep': theta_min,\n",
    "    'max_sep': theta_max,\n",
    "    'sep_units': sep_units,\n",
    "    'coord_units': coord_units,\n",
    "    'var_method': 'jackknife'\n",
    "}"
   ]
  },
  {
   "cell_type": "code",
   "execution_count": 14,
   "metadata": {},
   "outputs": [],
   "source": [
    "#Create the RhoStat object\n",
    "rho_stat_handler = RhoStat(\n",
    "    output='../data/test/',\n",
    "    treecorr_config=TreeCorrConfig,\n",
    "    verbose=True\n",
    ")"
   ]
  },
  {
   "cell_type": "code",
   "execution_count": 23,
   "metadata": {},
   "outputs": [
    {
     "name": "stdout",
     "output_type": "stream",
     "text": [
      "Building catalogs...\n",
      "Catalogs successfully built...\n",
      "psf_test_euclid\n",
      "psf_error_test_euclid\n",
      "psf_size_error_test_euclid\n"
     ]
    }
   ],
   "source": [
    "id = 'test_euclid'\n",
    "rho_stat_handler.build_cat_to_compute_rho(path, catalog_id=id, square_size=True)"
   ]
  },
  {
   "cell_type": "code",
   "execution_count": 24,
   "metadata": {},
   "outputs": [
    {
     "name": "stdout",
     "output_type": "stream",
     "text": [
      "Computation of the rho statistics of test_euclid in progress...\n",
      "Done...\n"
     ]
    }
   ],
   "source": [
    "filename = 'Euclid_rho_test.fits'\n",
    "rho_stat_handler.compute_rho_stats(id, filename=filename)"
   ]
  },
  {
   "cell_type": "code",
   "execution_count": 25,
   "metadata": {},
   "outputs": [],
   "source": [
    "rho_stat_handler.plot_rho_stats(filenames=[filename], colors=['blue'], catalog_ids=[id], savefig='test_euclid.png', legend='outside')"
   ]
  }
 ],
 "metadata": {
  "kernelspec": {
   "display_name": "sp_validation",
   "language": "python",
   "name": "python3"
  },
  "language_info": {
   "codemirror_mode": {
    "name": "ipython",
    "version": 3
   },
   "file_extension": ".py",
   "mimetype": "text/x-python",
   "name": "python",
   "nbconvert_exporter": "python",
   "pygments_lexer": "ipython3",
   "version": "3.9.0"
  }
 },
 "nbformat": 4,
 "nbformat_minor": 2
}
